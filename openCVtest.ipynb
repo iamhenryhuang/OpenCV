{
 "cells": [
  {
   "cell_type": "code",
   "execution_count": 24,
   "id": "6839e042-a250-4904-997d-85941b2ea422",
   "metadata": {},
   "outputs": [
    {
     "name": "stdout",
     "output_type": "stream",
     "text": [
      "Requirement already satisfied: opencv-python in c:\\users\\henry\\appdata\\local\\programs\\python\\python312\\lib\\site-packages (4.11.0.86)\n",
      "Requirement already satisfied: numpy>=1.21.2 in c:\\users\\henry\\appdata\\local\\programs\\python\\python312\\lib\\site-packages (from opencv-python) (2.0.0)\n"
     ]
    }
   ],
   "source": [
    "!pip install opencv-python"
   ]
  },
  {
   "cell_type": "code",
   "execution_count": 25,
   "id": "a797b19f-06c2-4878-b418-f848bb7a26ae",
   "metadata": {},
   "outputs": [
    {
     "name": "stdout",
     "output_type": "stream",
     "text": [
      "Requirement already satisfied: opencv_contrib_python in c:\\users\\henry\\appdata\\local\\programs\\python\\python312\\lib\\site-packages (4.11.0.86)\n",
      "Requirement already satisfied: numpy>=1.21.2 in c:\\users\\henry\\appdata\\local\\programs\\python\\python312\\lib\\site-packages (from opencv_contrib_python) (2.0.0)\n"
     ]
    }
   ],
   "source": [
    "!pip install opencv_contrib_python"
   ]
  },
  {
   "cell_type": "code",
   "execution_count": 26,
   "id": "e33a6732-3b98-4676-a4c4-86b2a6ec097b",
   "metadata": {},
   "outputs": [
    {
     "name": "stdout",
     "output_type": "stream",
     "text": [
      "Requirement already satisfied: pip in c:\\users\\henry\\appdata\\local\\programs\\python\\python312\\lib\\site-packages (24.3.1)\n",
      "Requirement already satisfied: setuptools in c:\\users\\henry\\appdata\\local\\programs\\python\\python312\\lib\\site-packages (75.8.0)\n",
      "Requirement already satisfied: wheel in c:\\users\\henry\\appdata\\local\\programs\\python\\python312\\lib\\site-packages (0.45.1)\n"
     ]
    }
   ],
   "source": [
    "!pip install --upgrade pip setuptools wheel"
   ]
  },
  {
   "cell_type": "markdown",
   "id": "48e6f99f-12a6-40f5-8fb8-b2134c6091a9",
   "metadata": {},
   "source": [
    "imread() 開啟圖片"
   ]
  },
  {
   "cell_type": "code",
   "execution_count": 4,
   "id": "d15028c6-ff11-4b33-8dcd-cfa4cefcb0be",
   "metadata": {},
   "outputs": [],
   "source": [
    "import cv2\n",
    "img = cv2.imread('meme.jpg')   # 開啟圖片，預設使用 cv2.IMREAD_COLOR 模式\n",
    "cv2.imshow('oxxostudio', img)  # 使用名為 oxxostudio 的視窗開啟圖片\n",
    "cv2.waitKey(0)                 # 按下任意鍵停止\n",
    "cv2.destroyAllWindows()        # 結束所有圖片視窗"
   ]
  },
  {
   "cell_type": "code",
   "execution_count": 1,
   "id": "1874982e-8d14-46b6-9c6e-bd775599828a",
   "metadata": {},
   "outputs": [
    {
     "data": {
      "text/plain": [
       "True"
      ]
     },
     "execution_count": 1,
     "metadata": {},
     "output_type": "execute_result"
    }
   ],
   "source": [
    "import cv2\n",
    "img = cv2.imread('meme.jpg', cv2.IMREAD_GRAYSCALE)   # 以灰階模式開啟圖片\n",
    "cv2.imwrite('oxxostudio_2.jpg', img, [cv2.IMWRITE_JPEG_QUALITY, 80])  # 存成 jpg\n",
    "cv2.imwrite('oxxostudio_3.png', img)  # 存成 png"
   ]
  },
  {
   "cell_type": "markdown",
   "id": "cda83e00-7fe7-49dd-baa5-7cb5fd96024b",
   "metadata": {},
   "source": [
    "OpenCV 裡的顏色為「BGR」"
   ]
  },
  {
   "cell_type": "code",
   "execution_count": 3,
   "id": "d3fe9bcc-5f97-4cf3-be18-f935c31ccf5c",
   "metadata": {},
   "outputs": [],
   "source": [
    "import cv2\n",
    "import numpy as np\n",
    "img = np.zeros((500,500,3), dtype='uint8')   # 快速產生 500x500，每個項目為 [0,0,0] 的三維陣列\n",
    "img[150:350, 150:350] = [0,0,255]  # 將中間 200x200 的每個項目內容，改為 [0,0,255]\n",
    "cv2.imwrite('oxxostudio.jpg', img)       # 存成 jpg\n",
    "cv2.imshow('oxxostudio', img)            # 顯示圖片\n",
    "cv2.waitKey(0)                           # 按下任意鍵停止\n",
    "cv2.destroyAllWindows()"
   ]
  },
  {
   "cell_type": "markdown",
   "id": "4bf6f801-8a5b-42c5-943d-313741c50e3c",
   "metadata": {},
   "source": [
    "用VideoCapture() 開啟影片"
   ]
  },
  {
   "cell_type": "code",
   "execution_count": 10,
   "id": "182b9389-29f5-4f80-ae4e-e902040a1632",
   "metadata": {},
   "outputs": [],
   "source": [
    "cap = cv2.VideoCapture(0, cv2.CAP_DSHOW)"
   ]
  },
  {
   "cell_type": "code",
   "execution_count": 14,
   "id": "258dad60-4078-4b6e-8639-fe06402fc744",
   "metadata": {},
   "outputs": [],
   "source": [
    "import cv2\n",
    "cap = cv2.VideoCapture(0)\n",
    "if not cap.isOpened():\n",
    "    print(\"Cannot open camera\")\n",
    "    exit()"
   ]
  },
  {
   "cell_type": "code",
   "execution_count": 12,
   "id": "041625e3-8b4b-41f5-9c19-b0e70afb11a7",
   "metadata": {},
   "outputs": [],
   "source": [
    "import cv2\n",
    "cap = cv2.VideoCapture(0)\n",
    "if not cap.isOpened():\n",
    "    print(\"Cannot open camera\")\n",
    "    exit()\n",
    "while True:\n",
    "    ret, frame = cap.read()             # 讀取影片的每一幀\n",
    "    if not ret:\n",
    "        print(\"Cannot receive frame\")   # 如果讀取錯誤，印出訊息\n",
    "        break\n",
    "    cv2.imshow('oxxostudio', frame)     # 如果讀取成功，顯示該幀的畫面\n",
    "    if cv2.waitKey(1) == ord('q'):      # 每一毫秒更新一次，直到按下 q 結束\n",
    "        break\n",
    "cap.release()                           # 所有作業都完成後，釋放資源\n",
    "cv2.destroyAllWindows()                 # 結束所有視窗"
   ]
  },
  {
   "cell_type": "markdown",
   "id": "45ec3549-ef09-44c4-b82a-db94e2525bc5",
   "metadata": {},
   "source": [
    "搭配 cvtColor() 改變影片色彩"
   ]
  },
  {
   "cell_type": "code",
   "execution_count": 15,
   "id": "f0c4967b-e87e-4289-9e41-d562aae1c1d8",
   "metadata": {},
   "outputs": [],
   "source": [
    "import cv2\n",
    "cap = cv2.VideoCapture(0)\n",
    "if not cap.isOpened():\n",
    "    print(\"Cannot open camera\")\n",
    "    exit()\n",
    "while True:\n",
    "    ret, frame = cap.read()\n",
    "    if not ret:\n",
    "        print(\"Cannot receive frame\")\n",
    "        break\n",
    "    gray = cv2.cvtColor(frame, cv2.COLOR_BGR2GRAY)  # 轉換成灰階\n",
    "    # gray = cv2.cvtColor(frame, 6)  # 也可以用數字對照 6 表示轉換成灰階\n",
    "    cv2.imshow('oxxostudio', gray)\n",
    "    if cv2.waitKey(1) == ord('q'):\n",
    "        break\n",
    "cap.release()\n",
    "cv2.destroyAllWindows()"
   ]
  },
  {
   "cell_type": "markdown",
   "id": "10c1fe72-be93-421b-a111-97a2b850145e",
   "metadata": {},
   "source": [
    "讀取串流圖片 MJPEG ( Motion JPEG )"
   ]
  },
  {
   "cell_type": "code",
   "execution_count": 5,
   "id": "b18477b0-5d85-4af9-b93c-74111e39db0c",
   "metadata": {},
   "outputs": [
    {
     "name": "stdout",
     "output_type": "stream",
     "text": [
      "Cannot receive frame\n"
     ]
    }
   ],
   "source": [
    "import cv2\n",
    "cap = cv2.VideoCapture('https://cctvn.freeway.gov.tw/abs2mjpg/bmjpg?camera=15771')\n",
    "\n",
    "if not cap.isOpened():\n",
    "    print(\"Cannot open camera\")\n",
    "    exit()\n",
    "while True:\n",
    "    ret, frame = cap.read()             # 讀取影片的每一幀\n",
    "    if not ret:\n",
    "        print(\"Cannot receive frame\")   # 如果讀取錯誤，印出訊息\n",
    "        # 出現錯誤就再讀取一次，避免程式到此處就停止\n",
    "        cap = cv2.VideoCapture('https://cctvn.freeway.gov.tw/abs2mjpg/bmjpg?camera=15771')\n",
    "        continue\n",
    "    cv2.imshow('oxxostudio', frame)     # 如果讀取成功，顯示該幀的畫面\n",
    "    if cv2.waitKey(1) == ord('q'):      # 每一毫秒更新一次，直到按下 q 結束\n",
    "        break\n",
    "cap.release()                           # 所有作業都完成後，釋放資源\n",
    "cv2.destroyAllWindows()                 # 結束所有視窗"
   ]
  },
  {
   "cell_type": "markdown",
   "id": "b44d6c0a-a476-42dd-aaac-d12ef49b3327",
   "metadata": {},
   "source": [
    "使用 VideoWriter() 儲存影片"
   ]
  },
  {
   "cell_type": "code",
   "execution_count": 9,
   "id": "4d9709fc-e0c7-482b-b7bb-8f8072e3b5d4",
   "metadata": {},
   "outputs": [],
   "source": [
    "import cv2\n",
    "cap = cv2.VideoCapture(0)                         # 讀取電腦攝影機鏡頭影像。\n",
    "width = int(cap.get(cv2.CAP_PROP_FRAME_WIDTH))    # 取得影像寬度\n",
    "height = int(cap.get(cv2.CAP_PROP_FRAME_HEIGHT))  # 取得影像高度\n",
    "fourcc = cv2.VideoWriter_fourcc(*'mp4v')          # 設定影片的格式為 MJPG\n",
    "out = cv2.VideoWriter('output.mp4', fourcc, 20.0, (width,  height))  # 產生空的影片\n",
    "if not cap.isOpened():\n",
    "    print(\"Cannot open camera\")\n",
    "    exit()\n",
    "while True:\n",
    "    ret, frame = cap.read()\n",
    "    if not ret:\n",
    "        print(\"Cannot receive frame\")\n",
    "        break\n",
    "    out.write(frame)       # 將取得的每一幀圖像寫入空的影片\n",
    "    cv2.imshow('oxxostudio', frame)\n",
    "    if cv2.waitKey(1) == ord('q'):\n",
    "        break             # 按下 q 鍵停止\n",
    "cap.release()\n",
    "out.release()      # 釋放資源\n",
    "cv2.destroyAllWindows()"
   ]
  },
  {
   "cell_type": "markdown",
   "id": "ba79fa07-cc3d-479b-bc2a-a6eb74393dd6",
   "metadata": {},
   "source": [
    "搭配 cvtColor() 儲存為黑白的影片"
   ]
  },
  {
   "cell_type": "code",
   "execution_count": 8,
   "id": "66c36565-8791-4966-a679-67a5736349ee",
   "metadata": {},
   "outputs": [
    {
     "name": "stdout",
     "output_type": "stream",
     "text": [
      "Cannot receive frame\n"
     ]
    }
   ],
   "source": [
    "import cv2\n",
    "cap = cv2.VideoCapture(0)\n",
    "width = int(cap.get(cv2.CAP_PROP_FRAME_WIDTH))\n",
    "height = int(cap.get(cv2.CAP_PROP_FRAME_HEIGHT))\n",
    "fourcc = cv2.VideoWriter_fourcc(*'mp4v')\n",
    "out = cv2.VideoWriter('output.mov', fourcc, 20.0, (width,  height))\n",
    "# 如果轉換成黑白影片後如果無法開啟，請加上 isColor=False 參數設定\n",
    "# out = cv2.VideoWriter('output.mov', fourcc, 20.0, (width,  height), isColor=False)\n",
    "if not cap.isOpened():\n",
    "    print(\"Cannot open camera\")\n",
    "    exit()\n",
    "while True:\n",
    "    ret, frame = cap.read()\n",
    "    if not ret:\n",
    "        print(\"Cannot receive frame\")\n",
    "        break\n",
    "    gray = cv2.cvtColor(frame, cv2.COLOR_BGR2GRAY)  # 轉換成灰階\n",
    "    out.write(gray)\n",
    "    cv2.imshow('oxxostudio', gray)\n",
    "    if cv2.waitKey(1) == ord('q'):\n",
    "        break\n",
    "cap.release()\n",
    "out.release()\n",
    "cv2.destroyAllWindows()"
   ]
  },
  {
   "cell_type": "code",
   "execution_count": 9,
   "id": "1794e7ac-765e-43bf-ae18-c46a069fbc0c",
   "metadata": {},
   "outputs": [
    {
     "name": "stdout",
     "output_type": "stream",
     "text": [
      "(640, 640, 3)\n"
     ]
    }
   ],
   "source": [
    "# shape 取得長寬與色版數量\n",
    "import cv2\n",
    "img = cv2.imread('meme.jpg')\n",
    "print(img.shape)            # 得到 (360, 480, 3)\n",
    "cv2.imshow('oxxostudio', img)\n",
    "cv2.waitKey(0)              # 按下任意鍵停止\n",
    "cv2.destroyAllWindows()"
   ]
  },
  {
   "cell_type": "code",
   "execution_count": 10,
   "id": "1de33281-6453-4d03-9b24-5bf83836042e",
   "metadata": {},
   "outputs": [
    {
     "name": "stdout",
     "output_type": "stream",
     "text": [
      "1228800\n"
     ]
    }
   ],
   "source": [
    "# size 取得像素總數\n",
    "# 像素總數為「寬 x 長 x 色版數量」\n",
    "import cv2\n",
    "img = cv2.imread('meme.jpg')\n",
    "print(img.size)            # 518400 ( 360x480x3 )\n",
    "cv2.imshow('oxxostudio', img)\n",
    "cv2.waitKey(0)\n",
    "cv2.destroyAllWindows()"
   ]
  },
  {
   "cell_type": "code",
   "execution_count": 13,
   "id": "291b2c5b-0a97-420f-ad23-7f6d49a7a8ef",
   "metadata": {},
   "outputs": [
    {
     "name": "stdout",
     "output_type": "stream",
     "text": [
      "uint8\n"
     ]
    }
   ],
   "source": [
    "# dtype 取得數據類型\n",
    "import cv2\n",
    "img = cv2.imread('meme.jpg')\n",
    "print(img.dtype)            # uint8\n",
    "cv2.imshow('oxxostudio', img)\n",
    "cv2.waitKey(0)\n",
    "cv2.destroyAllWindows()"
   ]
  },
  {
   "cell_type": "code",
   "execution_count": 16,
   "id": "45337ad1-eb2a-4f0f-8f7c-c030ea0260e6",
   "metadata": {},
   "outputs": [
    {
     "name": "stdout",
     "output_type": "stream",
     "text": [
      "[[[ 97 152  49]\n",
      "  [ 97 152  49]\n",
      "  [ 97 152  49]\n",
      "  ...\n",
      "  [ 97 152  49]\n",
      "  [ 97 152  49]\n",
      "  [ 97 152  49]]\n",
      "\n",
      " [[ 97 152  49]\n",
      "  [ 97 152  49]\n",
      "  [ 97 152  49]\n",
      "  ...\n",
      "  [ 97 152  49]\n",
      "  [ 97 152  49]\n",
      "  [ 97 152  49]]\n",
      "\n",
      " [[ 97 152  49]\n",
      "  [ 97 152  49]\n",
      "  [ 97 152  49]\n",
      "  ...\n",
      "  [ 97 152  49]\n",
      "  [ 97 152  49]\n",
      "  [ 97 152  49]]\n",
      "\n",
      " ...\n",
      "\n",
      " [[ 97 152  49]\n",
      "  [ 97 152  49]\n",
      "  [ 97 152  49]\n",
      "  ...\n",
      "  [ 97 152  49]\n",
      "  [ 97 152  49]\n",
      "  [ 97 152  49]]\n",
      "\n",
      " [[ 97 152  49]\n",
      "  [ 97 152  49]\n",
      "  [ 97 152  49]\n",
      "  ...\n",
      "  [ 97 152  49]\n",
      "  [ 97 152  49]\n",
      "  [ 97 152  49]]\n",
      "\n",
      " [[ 97 152  49]\n",
      "  [ 97 152  49]\n",
      "  [ 97 152  49]\n",
      "  ...\n",
      "  [ 97 152  49]\n",
      "  [ 97 152  49]\n",
      "  [ 97 152  49]]]\n"
     ]
    }
   ],
   "source": [
    "# 使用 imread() 方法讀取的影像後，可以印出圖片的「三維陣列」資訊\n",
    "import cv2\n",
    "img = cv2.imread('meme.jpg')\n",
    "print(img)\n",
    "cv2.imshow('oxxostudio', img)\n",
    "cv2.waitKey(0)\n",
    "cv2.destroyAllWindows()"
   ]
  },
  {
   "cell_type": "code",
   "execution_count": 17,
   "id": "7c30b39a-bc8a-423c-b826-2d24ed576d05",
   "metadata": {},
   "outputs": [
    {
     "name": "stdout",
     "output_type": "stream",
     "text": [
      "[[97 97 97 ... 97 97 97]\n",
      " [97 97 97 ... 97 97 97]\n",
      " [97 97 97 ... 97 97 97]\n",
      " ...\n",
      " [97 97 97 ... 97 97 97]\n",
      " [97 97 97 ... 97 97 97]\n",
      " [97 97 97 ... 97 97 97]]\n",
      "[[152 152 152 ... 152 152 152]\n",
      " [152 152 152 ... 152 152 152]\n",
      " [152 152 152 ... 152 152 152]\n",
      " ...\n",
      " [152 152 152 ... 152 152 152]\n",
      " [152 152 152 ... 152 152 152]\n",
      " [152 152 152 ... 152 152 152]]\n",
      "[[49 49 49 ... 49 49 49]\n",
      " [49 49 49 ... 49 49 49]\n",
      " [49 49 49 ... 49 49 49]\n",
      " ...\n",
      " [49 49 49 ... 49 49 49]\n",
      " [49 49 49 ... 49 49 49]\n",
      " [49 49 49 ... 49 49 49]]\n"
     ]
    }
   ],
   "source": [
    "import cv2\n",
    "img = cv2.imread('meme.jpg')\n",
    "b, g, r = cv2.split(img)\n",
    "print(b)\n",
    "print(g)\n",
    "print(r)\n",
    "cv2.imshow('oxxostudio', img)\n",
    "cv2.waitKey(0)\n",
    "cv2.destroyAllWindows()"
   ]
  },
  {
   "cell_type": "code",
   "execution_count": 19,
   "id": "77380b78-05ca-403f-a7ec-54c3ccc8ec95",
   "metadata": {},
   "outputs": [],
   "source": [
    "# 透過陣列切片賦值的方法，就能將一張去除圖片中的紅色、綠色或藍色。\n",
    "import cv2\n",
    "img_blue = cv2.imread('meme.jpg')\n",
    "img_green = cv2.imread('meme.jpg')\n",
    "img_red = cv2.imread('meme.jpg')\n",
    "img_blue[:,:,1] = 0    # 將綠色設為 0\n",
    "img_blue[:,:,2] = 0    # 將紅色設為 0\n",
    "img_green[:,:,0] = 0   # 將藍色設為 0\n",
    "img_green[:,:,2] = 0   # 將紅色設為 0\n",
    "img_red[:,:,0] = 0     # 將藍色設為 0\n",
    "img_red[:,:,1] = 0     # 將綠色設為 0\n",
    "cv2.imshow('oxxostudio blue', img_blue)\n",
    "cv2.imshow('oxxostudio green', img_green)\n",
    "cv2.imshow('oxxostudio red', img_red)\n",
    "cv2.waitKey(0)\n",
    "cv2.destroyAllWindows()"
   ]
  },
  {
   "cell_type": "markdown",
   "id": "768f1a94-5546-485e-97a0-9f762cd3b40e",
   "metadata": {},
   "source": [
    "使用 flip() 方法，可以將影像上下左右翻轉。flip 有一個參數，參數設定如下：\n",
    "0\t以 x 軸為中心上下翻轉。\n",
    "1\t以 y 軸為中心左右翻轉。\n",
    "-1\t同時進行上下左右翻轉。"
   ]
  },
  {
   "cell_type": "code",
   "execution_count": 2,
   "id": "6795a29f-9d23-4799-a3c2-96b5cf5de84b",
   "metadata": {},
   "outputs": [
    {
     "data": {
      "text/plain": [
       "True"
      ]
     },
     "execution_count": 2,
     "metadata": {},
     "output_type": "execute_result"
    }
   ],
   "source": [
    "import cv2\n",
    "img = cv2.imread('meme.jpg')   # 開啟圖片\n",
    "output_0 = cv2.flip(img, 0)    # 上下翻轉\n",
    "output_1 = cv2.flip(img, 1)    # 左右翻轉\n",
    "output_2 = cv2.flip(img, -1)   # 上下左右翻轉\n",
    "cv2.imwrite('meme_0.jpg', output_0)\n",
    "cv2.imwrite('meme_1.jpg', output_1)\n",
    "cv2.imwrite('meme_2.jpg', output_2)"
   ]
  },
  {
   "cell_type": "markdown",
   "id": "fa672a2c-a92c-45cd-bfd4-b93255c289c9",
   "metadata": {},
   "source": [
    "使用 transpose()，將影像「左右翻轉後逆時針」旋轉 90 度"
   ]
  },
  {
   "cell_type": "code",
   "execution_count": 3,
   "id": "f683ceeb-3a66-41ba-aea0-01917d4dfeb6",
   "metadata": {},
   "outputs": [
    {
     "data": {
      "text/plain": [
       "True"
      ]
     },
     "execution_count": 3,
     "metadata": {},
     "output_type": "execute_result"
    }
   ],
   "source": [
    "import cv2\n",
    "img = cv2.imread('meme.jpg')\n",
    "output = cv2.transpose(img)    # 逆時針旋轉 90 度。\n",
    "cv2.imwrite('output.jpg', output)"
   ]
  },
  {
   "cell_type": "markdown",
   "id": "bd8ac3b8-7300-418f-9b24-eb1f24da8281",
   "metadata": {},
   "source": [
    "使用 reize()，將影像輸出為指定的尺寸"
   ]
  },
  {
   "cell_type": "code",
   "execution_count": 4,
   "id": "13e2be84-c3f3-4796-a68d-d1697c32f281",
   "metadata": {},
   "outputs": [
    {
     "data": {
      "text/plain": [
       "True"
      ]
     },
     "execution_count": 4,
     "metadata": {},
     "output_type": "execute_result"
    }
   ],
   "source": [
    "import cv2\n",
    "img = cv2.imread('meme.jpg')\n",
    "output_1 = cv2.resize(img, (200, 200))   # 產生 200x200 的圖\n",
    "output_2 = cv2.resize(img, (100, 300))   # 產生 100x300 的圖\n",
    "cv2.imwrite('output_1.jpg', output_1)\n",
    "cv2.imwrite('output_2.jpg', output_2)"
   ]
  },
  {
   "cell_type": "markdown",
   "id": "d520304e-94b1-47f7-bdfa-404e080ac5fd",
   "metadata": {},
   "source": [
    "將讀取到的影像縮小為 640x360，並進行上下翻轉"
   ]
  },
  {
   "cell_type": "code",
   "execution_count": 7,
   "id": "0d66f6f4-ffe8-4d7c-8f9d-12a541c41e9f",
   "metadata": {},
   "outputs": [],
   "source": [
    "import cv2\n",
    "cap = cv2.VideoCapture(0)                         # 讀取電腦攝影機鏡頭影像。\n",
    "fourcc = cv2.VideoWriter_fourcc(*'mp4v')          # 設定影片的格式\n",
    "out = cv2.VideoWriter('output_1.mp4', fourcc, 20.0, (640,  360))  # 產生空的影片，尺寸為 640x360\n",
    "if not cap.isOpened():\n",
    "    print(\"Cannot open camera\")\n",
    "    exit()\n",
    "while True:\n",
    "    ret, frame = cap.read()\n",
    "    if not ret:\n",
    "        print(\"Cannot receive frame\")\n",
    "        break\n",
    "    img_1 = cv2.resize(frame,(640, 360))   # 改變圖片尺寸\n",
    "    img_2 = cv2.flip(img_1, 0)             # 上下翻轉\n",
    "    out.write(img_2)                       # 將取得的每一幀圖像寫入空的影片\n",
    "    cv2.imshow('oxxostudio', frame)\n",
    "    if cv2.waitKey(1) == ord('q'):\n",
    "        break                              # 按下 q 鍵停止\n",
    "cap.release()\n",
    "out.release()      # 釋放資源\n",
    "cv2.destroyAllWindows()"
   ]
  },
  {
   "cell_type": "markdown",
   "id": "c3445b95-fc59-4128-aba2-20d233872ff0",
   "metadata": {},
   "source": [
    "warpAffine() 方法可以將來源的圖像，根據指定的「仿射矩陣」，輸出成仿射轉換後的新影像，矩陣必須採用 numpy 的矩陣格式，使用的方法如下：\n",
    "\n",
    "cv2.warpAffine(img, M, (w, h))\n",
    "#img 來源圖像，M 仿射矩陣，(w, h) 圖片長寬"
   ]
  },
  {
   "cell_type": "code",
   "execution_count": 2,
   "id": "c322be9c-53c9-4682-bad8-dff3faa8638d",
   "metadata": {},
   "outputs": [
    {
     "data": {
      "text/plain": [
       "True"
      ]
     },
     "execution_count": 2,
     "metadata": {},
     "output_type": "execute_result"
    }
   ],
   "source": [
    "import cv2\n",
    "import numpy as np\n",
    "img = cv2.imread('meme.jpg')\n",
    "M = np.float32([[1, 0, 100], [0, 1, 100]]) # 2x3 矩陣，x 軸平移 100，y 軸平移 100\n",
    "output_3 = cv2.warpAffine(img, M, (480, 360))\n",
    "cv2.imwrite('output_3.jpg', output_3)"
   ]
  },
  {
   "cell_type": "markdown",
   "id": "f5476ea1-eee9-44ea-9b22-0a0086fef63b",
   "metadata": {},
   "source": [
    "getRotationMatrix2D() 方法可以產生旋轉指定角度影像的仿射矩陣，再透過 warpAffine() 產生旋轉的影像，使用方式如下：\n",
    "\n",
    "cv2.getRotationMatrix2D((x, y), angle, scale)\n",
    "#(x, y) 旋轉的中心點，angle 旋轉角度 ( - 順時針，+ 逆時針 )，scale 旋轉後的尺寸"
   ]
  },
  {
   "cell_type": "code",
   "execution_count": 1,
   "id": "df00ed70-f68c-4a4c-a5f2-ea1b937c94f1",
   "metadata": {},
   "outputs": [
    {
     "data": {
      "text/plain": [
       "True"
      ]
     },
     "execution_count": 1,
     "metadata": {},
     "output_type": "execute_result"
    }
   ],
   "source": [
    "import cv2\n",
    "img = cv2.imread('meme.jpg')\n",
    "M = cv2.getRotationMatrix2D((240, 180), 45, 1)    # 中心點 (240, 180)，旋轉 45 度，尺寸 1\n",
    "output_4 = cv2.warpAffine(img, M, (480, 360))\n",
    "cv2.imwrite('output_4.jpg', output_4)"
   ]
  },
  {
   "cell_type": "markdown",
   "id": "4cb6ef6e-9a05-4c2f-9a64-23ca3a03aa44",
   "metadata": {},
   "source": [
    "getAffineTransform() 方法，可以根據輸入影像的三個點，對應輸出影像的三個點，產生仿射矩陣，再透過 warpAffine() 產生仿射變換後的影像，使用 2x3 的 numpy 矩陣作為三個點的座標格式，使用方法如下：\n",
    "\n",
    "cv2.getAffineTransform(輸入影像三個點的座標，輸出影像三個點的座標)"
   ]
  },
  {
   "cell_type": "code",
   "execution_count": 6,
   "id": "7f05d70e-2e6c-4426-968e-bf872984ec5c",
   "metadata": {},
   "outputs": [
    {
     "data": {
      "text/plain": [
       "True"
      ]
     },
     "execution_count": 6,
     "metadata": {},
     "output_type": "execute_result"
    }
   ],
   "source": [
    "import cv2\n",
    "import numpy as np\n",
    "img = cv2.imread('meme.jpg')\n",
    "p1 = np.float32([[100,100],[480,0],[0,360]])\n",
    "p2 = np.float32([[0,0],[480,0],[0,360]])\n",
    "M = cv2.getAffineTransform(p1, p2)\n",
    "output_5 = cv2.warpAffine(img, M, (480, 360))\n",
    "cv2.imwrite('output_5.jpg', output_5)"
   ]
  },
  {
   "cell_type": "markdown",
   "id": "865233bc-0872-4047-9d16-111b8054c0e6",
   "metadata": {},
   "source": [
    "warpPerspective() 方法為影像透視的方法，根據指定的「透視矩陣」，輸出成透視轉換後的新影像，使用方法如下：\n",
    "\n",
    "cv2.warpPerspective(img, M, (w, h))\n",
    "#img 來源圖像，M 透視矩陣，(w, h) 圖片長寬"
   ]
  },
  {
   "cell_type": "markdown",
   "id": "be108f94-58c5-4516-b7ac-e420d997cde9",
   "metadata": {},
   "source": [
    "getPerspectiveTransform() 方法，可以根據輸入影像的四個點，對應輸出影像的四個點，產生透視矩陣，再透過 warpPerspective() 產生透視變換後的影像，使用 2x4 的 numpy 矩陣作為四個點的座標格式，使用方法如下：\n",
    "\n",
    "cv2.getPerspectiveTransform(輸入影像四個點的座標，輸出影像四個點的座標)"
   ]
  },
  {
   "cell_type": "code",
   "execution_count": 7,
   "id": "1627535d-4bee-4ad1-930d-9a45685031fc",
   "metadata": {},
   "outputs": [
    {
     "data": {
      "text/plain": [
       "True"
      ]
     },
     "execution_count": 7,
     "metadata": {},
     "output_type": "execute_result"
    }
   ],
   "source": [
    "import cv2\n",
    "import numpy as np\n",
    "\n",
    "p1 = np.float32([[100,100],[480,0],[0,360],[480,360]])\n",
    "p2 = np.float32([[0,0],[480,0],[0,360],[480,360]])\n",
    "m = cv2.getPerspectiveTransform(p1,p2)\n",
    "\n",
    "img = cv2.imread('meme.jpg')\n",
    "output_6 = cv2.warpPerspective(img, m, (480, 360))\n",
    "cv2.imwrite('output_6.jpg', output_6)"
   ]
  },
  {
   "cell_type": "markdown",
   "id": "feadaed9-5321-4d68-aeba-9a0af2963e54",
   "metadata": {},
   "source": [
    "使用 cvtcolor()，將轉換影像色彩，把來源的彩色圖片，轉換成灰階影像"
   ]
  },
  {
   "cell_type": "code",
   "execution_count": 9,
   "id": "12291bdb-379d-4d88-b184-9641f1a97bcf",
   "metadata": {},
   "outputs": [],
   "source": [
    "import cv2\n",
    "img = cv2.imread('meme.jpg')\n",
    "img = cv2.cvtColor(img, cv2.COLOR_BGR2GRAY)  # 轉換成灰階影像\n",
    "cv2.imwrite('oxxo.jpg', img)\n",
    "cv2.waitKey(0)                               # 按下任意鍵停止\n",
    "cv2.destroyAllWindows()"
   ]
  },
  {
   "cell_type": "markdown",
   "id": "b5bab388-84a6-48e1-a074-bfe438c29fda",
   "metadata": {},
   "source": [
    "將來源的彩色影片，轉換成灰階影片"
   ]
  },
  {
   "cell_type": "code",
   "execution_count": 10,
   "id": "444a740a-ae2b-4c80-abf9-80789578d7ea",
   "metadata": {},
   "outputs": [],
   "source": [
    "import cv2\n",
    "cap = cv2.VideoCapture(0)\n",
    "if not cap.isOpened():\n",
    "    print(\"Cannot open camera\")\n",
    "    exit()\n",
    "while True:\n",
    "    ret, frame = cap.read()\n",
    "    if not ret:\n",
    "        print(\"Cannot receive frame\")\n",
    "        break\n",
    "    gray = cv2.cvtColor(frame, cv2.COLOR_BGR2GRAY)  # 轉換成灰階影像\n",
    "    cv2.imshow('oxxostudio', gray)\n",
    "    if cv2.waitKey(1) == ord('q'):\n",
    "        break      # 按下 q 鍵停止\n",
    "cap.release()\n",
    "cv2.destroyAllWindows()"
   ]
  },
  {
   "cell_type": "markdown",
   "id": "72d037c7-61c7-4f1c-9f2c-2a268fa96166",
   "metadata": {},
   "source": [
    "line() 方法可以在影像裡繪製直線\n",
    "cv2.line(img, pt1, pt2, color, thickness)\n",
    "#img 來源影像\n",
    "#pt1 起始點座標 pt2 結束點座標\n",
    "#color 線條顏色，使用 BGR\n",
    "#thickness 線條粗細，預設 1"
   ]
  },
  {
   "cell_type": "code",
   "execution_count": 1,
   "id": "c478101d-55ce-480f-9c16-d0b3cf2ef3bd",
   "metadata": {},
   "outputs": [],
   "source": [
    "import cv2\n",
    "import numpy as np\n",
    "img = np.zeros((300,300,3), dtype='uint8')   # 繪製 300x300 的黑色畫布\n",
    "cv2.line(img,(50,50),(250,250),(0,0,255),5)  # 繪製線條\n",
    "cv2.imshow('oxxostudio', img)\n",
    "cv2.waitKey(0)                               # 按下任意鍵停止\n",
    "cv2.destroyAllWindows()"
   ]
  },
  {
   "cell_type": "markdown",
   "id": "f81434dc-5ec6-4960-9a63-a3a89afcae28",
   "metadata": {},
   "source": [
    "arrowedLine() 方法可以在影像裡繪製箭頭線條，使用方法如下：\n",
    "\n",
    "cv2.arrowedLine(img, pt1, pt2, color, thickness, tipLength)\n",
    "#img 來源影像\n",
    "#pt1 起始點座標 pt2 結束點座標\n",
    "#color 線條顏色，使用 BGR\n",
    "#thickness 線條粗細，預設 1\n",
    "#tipLength 箭頭長度，預設 0.1 ( 箭頭線條長度 x 0.1 )"
   ]
  },
  {
   "cell_type": "code",
   "execution_count": 2,
   "id": "8d733959-2f59-4a7f-9102-1372efbfb3d6",
   "metadata": {},
   "outputs": [],
   "source": [
    "import cv2\n",
    "import numpy as np\n",
    "img = np.zeros((300,300,3), dtype='uint8')\n",
    "cv2.arrowedLine(img,(50,50),(250,250),(0,0,255),5)  # 繪製箭頭線條\n",
    "cv2.imshow('oxxostudio', img)\n",
    "cv2.waitKey(0)\n",
    "cv2.destroyAllWindows()"
   ]
  },
  {
   "cell_type": "markdown",
   "id": "45d271d7-047d-428e-9c2e-199da631001c",
   "metadata": {},
   "source": [
    "rectangle() 方法可以在影像裡繪製四邊形，使用方法如下：\n",
    "\n",
    "cv2.rectangle(img, pt1, pt2, color, thickness)\n",
    "#img 來源影像\n",
    "#pt1 左上座標 pt2 右下座標\n",
    "#color 線條顏色，使用 BGR\n",
    "#thickness 線條粗細，預設 1，設定 -1 表示填滿"
   ]
  },
  {
   "cell_type": "code",
   "execution_count": 4,
   "id": "ab573ab8-329b-4ae0-8f01-9b158276d4ea",
   "metadata": {},
   "outputs": [],
   "source": [
    "import cv2\n",
    "import numpy as np\n",
    "img = np.zeros((300,300,3), dtype='uint8')\n",
    "cv2.rectangle(img,(50,50),(250,250),(0,0,255),-1) # 繪製正方形\n",
    "cv2.imshow('oxxostudio', img)\n",
    "cv2.waitKey(0)\n",
    "cv2.destroyAllWindows()"
   ]
  },
  {
   "cell_type": "markdown",
   "id": "1850a0ba-abe7-4522-a75a-f43b25064941",
   "metadata": {},
   "source": [
    "circle() 方法可以在影像裡繪製圓形，使用方法如下：\n",
    "\n",
    "cv2.circle(img, center, radius, color, thickness)\n",
    "#img 來源影像\n",
    "#center 中心點座標\n",
    "#radius 半徑\n",
    "#color 線條顏色，使用 BGR\n",
    "#thickness 線條粗細，預設 1，設定 -1 表示填滿"
   ]
  },
  {
   "cell_type": "code",
   "execution_count": 6,
   "id": "56bc2153-7cb8-4f39-bc88-b46f778efa04",
   "metadata": {},
   "outputs": [],
   "source": [
    "import cv2\n",
    "import numpy as np\n",
    "img = np.zeros((300,300,3), dtype='uint8')\n",
    "cv2.circle(img,(150,150),100,(0,0,255),-1) # 繪製圓形\n",
    "cv2.imshow('oxxostudio', img)\n",
    "cv2.waitKey(0)\n",
    "cv2.destroyAllWindows()"
   ]
  },
  {
   "cell_type": "markdown",
   "id": "f342d617-71c8-4e8e-a909-ac4318b70e3a",
   "metadata": {},
   "source": [
    "ellipse() 方法可以在影像裡繪製橢圓形，使用方法如下：\n",
    "\n",
    "cv2.ellipse(img, center, axes, angle, startAngle, endAngle, color, thickness)\n",
    "#img 來源影像\n",
    "#center 中心點座標\n",
    "#axes 長軸與短軸\n",
    "#angle 轉向角度，正值逆時針，負值順時針\n",
    "#startAngle 起始角度，endAngle 結束角度，範圍 0～360\n",
    "#color 線條顏色，使用 BGR\n",
    "#thickness 線條粗細，預設 1，設定 -1 表示填滿"
   ]
  },
  {
   "cell_type": "code",
   "execution_count": 9,
   "id": "36c40dba-287c-494d-bd4d-8d8f434247bf",
   "metadata": {},
   "outputs": [],
   "source": [
    "import cv2\n",
    "import numpy as np\n",
    "img = np.zeros((300,300,3), dtype='uint8')\n",
    "cv2.ellipse(img,(150,150),(100,50),45,0,360,(0,0,255),5)\n",
    "cv2.ellipse(img,(150,150),(30,100),90,0,360,(255,150,0),5)\n",
    "cv2.ellipse(img,(150,150),(20,120),30,0,360,(0,255,255),5)\n",
    "cv2.imshow('oxxostudio', img)\n",
    "cv2.waitKey(0)\n",
    "cv2.destroyAllWindows()"
   ]
  },
  {
   "cell_type": "markdown",
   "id": "bd2511a3-82d3-481e-9031-b02d492282d4",
   "metadata": {},
   "source": [
    "polylines() 方法可以在影像裡繪製多邊形，使用方法如下：\n",
    "\n",
    "cv2.polylines(img, pts, isClosed, color, thickness)\n",
    "#img 來源影像\n",
    "#pts 座標陣列 ( 使用 numpy 陣列 )\n",
    "#isClosed 多邊形是否閉合，True 閉合，False 不閉合\n",
    "#color 線條顏色，使用 BGR\n",
    "#thickness 線條粗細，預設 1"
   ]
  },
  {
   "cell_type": "code",
   "execution_count": 10,
   "id": "b24a3e54-45b0-45fb-83ac-b3f0669f6d86",
   "metadata": {},
   "outputs": [],
   "source": [
    "import cv2\n",
    "import numpy as np\n",
    "img = np.zeros((300,300,3), dtype='uint8')\n",
    "pts = np.array([[150,50],[250,100],[150,250],[50,100]])   # 產生座標陣列\n",
    "cv2.polylines(img,[pts],True,(0,0,255),5)   # 繪製多邊形\n",
    "cv2.imshow('oxxostudio', img)\n",
    "cv2.waitKey(0)\n",
    "cv2.destroyAllWindows()"
   ]
  },
  {
   "cell_type": "markdown",
   "id": "cd21e91c-0b59-4ff9-ba30-bd2af8a185fc",
   "metadata": {},
   "source": [
    "putText() 方法可以在影像裡加入文字，使用方法如下：\n",
    "\n",
    "cv2.putText(img, text, org, fontFace, fontScale, color, thickness, lineType)\n",
    "#img 來源影像\n",
    "#text 文字內容\n",
    "#org 文字座標 ( 垂直方向是文字底部到影像頂端的距離 )\n",
    "#fontFace 文字字型\n",
    "#fontScale 文字尺寸\n",
    "#color 線條顏色，使用 BGR\n",
    "#thickness 文字外框線條粗細，預設 1\n",
    "#lineType 外框線條樣式，預設 cv2.LINE_8，設定 cv2.LINE_AA 可以反鋸齒"
   ]
  },
  {
   "cell_type": "code",
   "execution_count": 11,
   "id": "db88925e-cc37-4571-ae94-07e6f7b6cc88",
   "metadata": {},
   "outputs": [],
   "source": [
    "import cv2\n",
    "import numpy as np\n",
    "img = np.zeros((150,300,3), dtype='uint8')   # 建立 300x150 的黑色畫布\n",
    "text = 'Hello'\n",
    "org = (20,90)\n",
    "fontFace = cv2.FONT_HERSHEY_SIMPLEX\n",
    "fontScale = 2.5\n",
    "color = (0,0,255)\n",
    "thickness = 5\n",
    "lineType = cv2.LINE_AA\n",
    "cv2.putText(img, text, org, fontFace, fontScale, color, thickness, lineType)\n",
    "cv2.imshow('oxxostudio', img)\n",
    "cv2.waitKey(0)      # 按下任意鍵停止\n",
    "cv2.destroyAllWindows()"
   ]
  },
  {
   "cell_type": "markdown",
   "id": "4a3d6657-86c0-4c52-aa71-8bb890778f0c",
   "metadata": {},
   "source": [
    "在讀取影像後，使用陣列的切片方式，取出想要的範圍，另存成新的圖片，就可以實現剪裁圖片的效果，下方的程式碼會從圖片中 (100,100) 的位置，剪裁出一個 200x200 的區域儲存為新影像。"
   ]
  },
  {
   "cell_type": "code",
   "execution_count": 14,
   "id": "09a3397c-54d1-4a51-a778-ded3845c41af",
   "metadata": {},
   "outputs": [],
   "source": [
    "import cv2\n",
    "img = cv2.imread('meme.jpg')\n",
    "x = 100\n",
    "y = 100\n",
    "w = 200\n",
    "h = 200\n",
    "crop_img = img[y:y+h, x:x+w]        # 取出陣列的範圍\n",
    "cv2.imwrite('output.jpg', crop_img) # 儲存圖片\n",
    "cv2.imshow('oxxostudio', crop_img)\n",
    "cv2.waitKey(0)                      # 按下任意鍵停止\n",
    "cv2.destroyAllWindows()"
   ]
  },
  {
   "cell_type": "markdown",
   "id": "d1fa43de-2de0-4fb8-ad7b-458e8ef0e2c3",
   "metadata": {},
   "source": [
    "運用同樣的原理 ( 剪裁出來的區域是陣列 )，就能將剪裁的區域，放到其他圖片中指定的位置，下方的程式碼，會將剪裁出來的圖片，放到另外一張黑色畫布中 (100, 100) 的位置。"
   ]
  },
  {
   "cell_type": "code",
   "execution_count": 16,
   "id": "e1015e70-633f-421e-b805-d350550c380c",
   "metadata": {},
   "outputs": [],
   "source": [
    "import cv2\n",
    "import numpy as np\n",
    "img = cv2.imread('meme.jpg')\n",
    "x = 100\n",
    "y = 100\n",
    "w = 200\n",
    "h = 200\n",
    "crop_img = img[y:y+h, x:x+w]\n",
    "\n",
    "output = np.zeros((360,480,3), dtype='uint8')\n",
    "output[x:x+w, y:y+h]=crop_img\n",
    "\n",
    "cv2.imwrite('output.jpg', output)\n",
    "cv2.imshow('oxxostudio', output)\n",
    "cv2.waitKey(0)\n",
    "cv2.destroyAllWindows()"
   ]
  },
  {
   "cell_type": "markdown",
   "id": "72e4a9da-a4a7-44a6-ac28-7959f06f63bf",
   "metadata": {},
   "source": [
    "調整 contrast ( 對比 ) 和 brightness ( 亮度 ) 的數值，去改變影像的對比度和亮度。"
   ]
  },
  {
   "cell_type": "code",
   "execution_count": 18,
   "id": "99edc7fa-19e6-429a-b89a-a6d67b73cb32",
   "metadata": {},
   "outputs": [],
   "source": [
    "import cv2\n",
    "import numpy as np\n",
    "img = cv2.imread('mona.jpg')\n",
    "\n",
    "contrast = 200\n",
    "brightness = 0\n",
    "output = img * (contrast/127 + 1) - contrast + brightness # 轉換公式\n",
    "# 轉換公式參考 https://stackoverflow.com/questions/50474302/how-do-i-adjust-brightness-contrast-and-vibrance-with-opencv-python\n",
    "\n",
    "# 調整後的數值大多為浮點數，且可能會小於 0 或大於 255\n",
    "# 為了保持像素色彩區間為 0～255 的整數，所以再使用 np.clip() 和 np.uint8() 進行轉換\n",
    "output = np.clip(output, 0, 255)\n",
    "output = np.uint8(output)\n",
    "\n",
    "cv2.imshow('before', img)    # 原始圖片\n",
    "cv2.imshow('after', output) # 調整亮度對比的圖片\n",
    "cv2.waitKey(0)                    # 按下任意鍵停止\n",
    "cv2.destroyAllWindows()"
   ]
  },
  {
   "cell_type": "markdown",
   "id": "17c0e2f3-7d0d-4f9c-b9a7-7a70b15cb7db",
   "metadata": {},
   "source": [
    "使用 convertScaleAbs 方法，可以根據特定的公式，轉換影像中每個像素，使用方法如下：\n",
    "\n",
    "cv2.convertScaleAbs(img, output, alpha, beta)\n",
    "#img 來源影像\n",
    "#output 輸出影像，公式：output = img*alpha + beta\n",
    "#alpha, beta 公式中的參數"
   ]
  },
  {
   "cell_type": "code",
   "execution_count": 27,
   "id": "b95db411-a7fb-4d75-a8ca-fc00ef911f6f",
   "metadata": {},
   "outputs": [],
   "source": [
    "import cv2\n",
    "import numpy as np\n",
    "img = cv2.imread('mona.jpg')\n",
    "output = img    # 建立 output 變數\n",
    "\n",
    "alpha = 1\n",
    "beta = 10\n",
    "\n",
    "cv2.convertScaleAbs(img, output, alpha, beta)  # 套用 convertScaleAbs\n",
    "cv2.imshow('oxxostudio', output)\n",
    "cv2.waitKey(0)      # 按下任意鍵停止\n",
    "cv2.destroyAllWindows()"
   ]
  },
  {
   "cell_type": "code",
   "execution_count": null,
   "id": "21726140-8f3e-452e-a916-76f2586741ad",
   "metadata": {},
   "outputs": [],
   "source": []
  }
 ],
 "metadata": {
  "kernelspec": {
   "display_name": "Python 3 (ipykernel)",
   "language": "python",
   "name": "python3"
  },
  "language_info": {
   "codemirror_mode": {
    "name": "ipython",
    "version": 3
   },
   "file_extension": ".py",
   "mimetype": "text/x-python",
   "name": "python",
   "nbconvert_exporter": "python",
   "pygments_lexer": "ipython3",
   "version": "3.12.4"
  }
 },
 "nbformat": 4,
 "nbformat_minor": 5
}
